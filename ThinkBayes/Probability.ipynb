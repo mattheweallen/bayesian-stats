{
 "cells": [
  {
   "cell_type": "markdown",
   "id": "94cf6bca-8dc6-41c3-b239-dde85687f70c",
   "metadata": {},
   "source": [
    "A Simple definition of Probability is probability is a fraction of a finite set. This will be refined later."
   ]
  },
  {
   "cell_type": "code",
   "execution_count": 2,
   "id": "eacf48be-33c5-4ef0-b2ec-1f6510082308",
   "metadata": {},
   "outputs": [
    {
     "name": "stdout",
     "output_type": "stream",
     "text": [
      "Download gss_bayes.csv\n"
     ]
    }
   ],
   "source": [
    "# Load the General Social Survey data\n",
    "from os.path import basename, exists\n",
    "\n",
    "def download(url):\n",
    "    filename = basename(url)\n",
    "    if not exists(filename):\n",
    "        from urllib.request import urlretrieve\n",
    "        local, _ = urlretrieve(url, filename)\n",
    "        print('Download ' + local)\n",
    "\n",
    "download('https://github.com/AllenDowney/ThinkBayes2/raw/master/data/gss_bayes.csv')"
   ]
  },
  {
   "cell_type": "code",
   "execution_count": 3,
   "id": "eb9e70f5-f354-4baf-b9b9-3f3a00e00739",
   "metadata": {},
   "outputs": [
    {
     "data": {
      "text/html": [
       "<div>\n",
       "<style scoped>\n",
       "    .dataframe tbody tr th:only-of-type {\n",
       "        vertical-align: middle;\n",
       "    }\n",
       "\n",
       "    .dataframe tbody tr th {\n",
       "        vertical-align: top;\n",
       "    }\n",
       "\n",
       "    .dataframe thead th {\n",
       "        text-align: right;\n",
       "    }\n",
       "</style>\n",
       "<table border=\"1\" class=\"dataframe\">\n",
       "  <thead>\n",
       "    <tr style=\"text-align: right;\">\n",
       "      <th></th>\n",
       "      <th>year</th>\n",
       "      <th>age</th>\n",
       "      <th>sex</th>\n",
       "      <th>polviews</th>\n",
       "      <th>partyid</th>\n",
       "      <th>indus10</th>\n",
       "    </tr>\n",
       "    <tr>\n",
       "      <th>caseid</th>\n",
       "      <th></th>\n",
       "      <th></th>\n",
       "      <th></th>\n",
       "      <th></th>\n",
       "      <th></th>\n",
       "      <th></th>\n",
       "    </tr>\n",
       "  </thead>\n",
       "  <tbody>\n",
       "    <tr>\n",
       "      <th>1</th>\n",
       "      <td>1974</td>\n",
       "      <td>21.0</td>\n",
       "      <td>1</td>\n",
       "      <td>4.0</td>\n",
       "      <td>2.0</td>\n",
       "      <td>4970.0</td>\n",
       "    </tr>\n",
       "    <tr>\n",
       "      <th>2</th>\n",
       "      <td>1974</td>\n",
       "      <td>41.0</td>\n",
       "      <td>1</td>\n",
       "      <td>5.0</td>\n",
       "      <td>0.0</td>\n",
       "      <td>9160.0</td>\n",
       "    </tr>\n",
       "    <tr>\n",
       "      <th>5</th>\n",
       "      <td>1974</td>\n",
       "      <td>58.0</td>\n",
       "      <td>2</td>\n",
       "      <td>6.0</td>\n",
       "      <td>1.0</td>\n",
       "      <td>2670.0</td>\n",
       "    </tr>\n",
       "    <tr>\n",
       "      <th>6</th>\n",
       "      <td>1974</td>\n",
       "      <td>30.0</td>\n",
       "      <td>1</td>\n",
       "      <td>5.0</td>\n",
       "      <td>4.0</td>\n",
       "      <td>6870.0</td>\n",
       "    </tr>\n",
       "    <tr>\n",
       "      <th>7</th>\n",
       "      <td>1974</td>\n",
       "      <td>48.0</td>\n",
       "      <td>1</td>\n",
       "      <td>5.0</td>\n",
       "      <td>4.0</td>\n",
       "      <td>7860.0</td>\n",
       "    </tr>\n",
       "  </tbody>\n",
       "</table>\n",
       "</div>"
      ],
      "text/plain": [
       "        year   age  sex  polviews  partyid  indus10\n",
       "caseid                                             \n",
       "1       1974  21.0    1       4.0      2.0   4970.0\n",
       "2       1974  41.0    1       5.0      0.0   9160.0\n",
       "5       1974  58.0    2       6.0      1.0   2670.0\n",
       "6       1974  30.0    1       5.0      4.0   6870.0\n",
       "7       1974  48.0    1       5.0      4.0   7860.0"
      ]
     },
     "execution_count": 3,
     "metadata": {},
     "output_type": "execute_result"
    }
   ],
   "source": [
    "import pandas as pd\n",
    "\n",
    "gss = pd.read_csv('gss_bayes.csv', index_col=0)\n",
    "gss.head()"
   ]
  },
  {
   "cell_type": "code",
   "execution_count": 5,
   "id": "06ab0c7a-8ee3-4cb9-bca8-266d46c6c98a",
   "metadata": {},
   "outputs": [
    {
     "data": {
      "text/plain": [
       "caseid\n",
       "1    False\n",
       "2    False\n",
       "5    False\n",
       "6     True\n",
       "7    False\n",
       "Name: indus10, dtype: bool"
      ]
     },
     "execution_count": 5,
     "metadata": {},
     "output_type": "execute_result"
    }
   ],
   "source": [
    "banker = (gss['indus10'] == 6870)\n",
    "banker.head()"
   ]
  },
  {
   "cell_type": "code",
   "execution_count": 6,
   "id": "2cb55fd3-9847-4926-84a5-a212ecd79438",
   "metadata": {},
   "outputs": [
    {
     "data": {
      "text/plain": [
       "728"
      ]
     },
     "execution_count": 6,
     "metadata": {},
     "output_type": "execute_result"
    }
   ],
   "source": [
    "banker.sum()"
   ]
  },
  {
   "cell_type": "code",
   "execution_count": 7,
   "id": "9fad3341-5d90-4b4e-be47-c2f1ea64f44e",
   "metadata": {},
   "outputs": [
    {
     "data": {
      "text/plain": [
       "0.014769730168391155"
      ]
     },
     "execution_count": 7,
     "metadata": {},
     "output_type": "execute_result"
    }
   ],
   "source": [
    "banker.mean() # probability randomly chosen person in the dataset is a banker"
   ]
  },
  {
   "cell_type": "code",
   "execution_count": 8,
   "id": "867c3f9a-c140-4b20-a30d-7c94a39911d4",
   "metadata": {},
   "outputs": [],
   "source": [
    "def prob(A):\n",
    "    \"\"\"Computes the probability of a proposition, A.\"\"\"\n",
    "    return A.mean()"
   ]
  },
  {
   "cell_type": "code",
   "execution_count": 9,
   "id": "8ea70f60-39c1-48b5-9f9c-af467bb0ddf9",
   "metadata": {},
   "outputs": [
    {
     "data": {
      "text/plain": [
       "0.014769730168391155"
      ]
     },
     "execution_count": 9,
     "metadata": {},
     "output_type": "execute_result"
    }
   ],
   "source": [
    "prob(banker)"
   ]
  },
  {
   "cell_type": "code",
   "execution_count": 17,
   "id": "38e03509-09da-4dea-9552-7486a32da75f",
   "metadata": {},
   "outputs": [],
   "source": [
    "female = (gss['sex'] == 2)"
   ]
  },
  {
   "cell_type": "code",
   "execution_count": 18,
   "id": "9d48bd30-b500-4d22-842f-ea0bb410c55f",
   "metadata": {},
   "outputs": [
    {
     "data": {
      "text/plain": [
       "0.5378575776019476"
      ]
     },
     "execution_count": 18,
     "metadata": {},
     "output_type": "execute_result"
    }
   ],
   "source": [
    "prob(female)"
   ]
  },
  {
   "cell_type": "markdown",
   "id": "b97701f1-5d04-4d93-b68b-5606a4074ce2",
   "metadata": {},
   "source": [
    "The values of polviews are on a seven-point scale:\n",
    "\n",
    "1    Extremely liberal\n",
    "2    Liberal\n",
    "3    Slightly liberal\n",
    "4    Moderate\n",
    "5    Slightly conservative\n",
    "6    Conservative\n",
    "7    Extremely conservative"
   ]
  },
  {
   "cell_type": "code",
   "execution_count": 23,
   "id": "ad2e3b72-7409-4ce8-8b9e-a13704596a22",
   "metadata": {},
   "outputs": [],
   "source": [
    "liberal = (gss['polviews'] <= 3)"
   ]
  },
  {
   "cell_type": "code",
   "execution_count": 24,
   "id": "6865fd3c-8b7f-4bca-aa40-b17e537bb303",
   "metadata": {},
   "outputs": [
    {
     "data": {
      "text/plain": [
       "0.27374721038750255"
      ]
     },
     "execution_count": 24,
     "metadata": {},
     "output_type": "execute_result"
    }
   ],
   "source": [
    "prob(liberal)"
   ]
  },
  {
   "cell_type": "markdown",
   "id": "7dff11ed-532f-49b1-a625-3bb61bbcae16",
   "metadata": {},
   "source": [
    "The values of partyid are encoded like this:\r\n",
    "\r\n",
    "0    Strong democrat\r\n",
    "1    Not strong democrat\r\n",
    "2    Independent, near democrat\r\n",
    "3    Independent\r\n",
    "4    Independent, near republican\r\n",
    "5    Not strong republican\r\n",
    "6    Strong republican\r\n",
    "7    Other party"
   ]
  },
  {
   "cell_type": "code",
   "execution_count": 19,
   "id": "ce7f541e-0505-4db7-b6b0-e1de368c89bf",
   "metadata": {},
   "outputs": [],
   "source": [
    "democrat = (gss['partyid'] <= 1)"
   ]
  },
  {
   "cell_type": "code",
   "execution_count": 20,
   "id": "280c5344-56aa-41ca-9fdd-5243a9c68dcf",
   "metadata": {},
   "outputs": [
    {
     "data": {
      "text/plain": [
       "0.3662609048488537"
      ]
     },
     "execution_count": 20,
     "metadata": {},
     "output_type": "execute_result"
    }
   ],
   "source": [
    "prob(democrat)"
   ]
  },
  {
   "cell_type": "code",
   "execution_count": 21,
   "id": "a69bf4ef-85a0-4823-b348-d9d85b6f4368",
   "metadata": {},
   "outputs": [
    {
     "data": {
      "text/plain": [
       "0.004686548995739501"
      ]
     },
     "execution_count": 21,
     "metadata": {},
     "output_type": "execute_result"
    }
   ],
   "source": [
    "prob(banker & democrat)"
   ]
  },
  {
   "cell_type": "code",
   "execution_count": 25,
   "id": "27c0b112-7cb1-4558-9dd8-b438b09a430a",
   "metadata": {},
   "outputs": [],
   "source": [
    "#Conditional Probability\n",
    "#What is the probability that a respondent is a Democrat, given that they are liberal?\n",
    "selected = democrat[liberal]"
   ]
  },
  {
   "cell_type": "code",
   "execution_count": 26,
   "id": "b8583214-40a2-43c7-a8a1-5130c43577b9",
   "metadata": {},
   "outputs": [
    {
     "data": {
      "text/plain": [
       "0.5206403320240125"
      ]
     },
     "execution_count": 26,
     "metadata": {},
     "output_type": "execute_result"
    }
   ],
   "source": [
    "prob(selected)"
   ]
  },
  {
   "cell_type": "code",
   "execution_count": 27,
   "id": "f5019744-7d8e-434f-a8c7-53316da8d172",
   "metadata": {},
   "outputs": [
    {
     "data": {
      "text/plain": [
       "0.7706043956043956"
      ]
     },
     "execution_count": 27,
     "metadata": {},
     "output_type": "execute_result"
    }
   ],
   "source": [
    "#What is the probability that a respondent is female, given that they are a banker?\n",
    "selected = female[banker]\n",
    "prob(selected)"
   ]
  },
  {
   "cell_type": "code",
   "execution_count": 30,
   "id": "374c518c-fa9b-4c93-8b0d-1231cc4743c2",
   "metadata": {},
   "outputs": [],
   "source": [
    "def conditional(proposition, given):\n",
    "    \"\"\"Probability of A conditinal on given.\"\"\"\n",
    "    return prob(proposition[given])"
   ]
  },
  {
   "cell_type": "code",
   "execution_count": 31,
   "id": "0b2fd785-9586-40e8-95a3-91ce957f8e70",
   "metadata": {},
   "outputs": [
    {
     "data": {
      "text/plain": [
       "0.27581004111500884"
      ]
     },
     "execution_count": 31,
     "metadata": {},
     "output_type": "execute_result"
    }
   ],
   "source": [
    "conditional(liberal, given=female)"
   ]
  },
  {
   "cell_type": "code",
   "execution_count": 32,
   "id": "c47846df-fddf-461f-9402-9311dc8a1246",
   "metadata": {},
   "outputs": [
    {
     "data": {
      "text/plain": [
       "0.5419106203216483"
      ]
     },
     "execution_count": 32,
     "metadata": {},
     "output_type": "execute_result"
    }
   ],
   "source": [
    "#conditional probability is not commutative\n",
    "conditional(female, given=liberal)"
   ]
  },
  {
   "cell_type": "code",
   "execution_count": 33,
   "id": "22adaabf-fd39-47f7-bfe2-4b5a779cc4e9",
   "metadata": {},
   "outputs": [
    {
     "data": {
      "text/plain": [
       "0.576085409252669"
      ]
     },
     "execution_count": 33,
     "metadata": {},
     "output_type": "execute_result"
    }
   ],
   "source": [
    "#condition and conjunction\n",
    "#probability a respondent is female, given that they are a liberal Democrat\n",
    "conditional(female, given=liberal & democrat)"
   ]
  },
  {
   "cell_type": "code",
   "execution_count": 36,
   "id": "18c1fd11-2c93-4c27-b585-b42393d07c45",
   "metadata": {},
   "outputs": [
    {
     "data": {
      "text/plain": [
       "0.17307692307692307"
      ]
     },
     "execution_count": 36,
     "metadata": {},
     "output_type": "execute_result"
    }
   ],
   "source": [
    "#probability liberal female, given that they are a banker\n",
    "conditional(female & liberal, given=banker)"
   ]
  },
  {
   "cell_type": "code",
   "execution_count": 37,
   "id": "a100cc52-5dfe-4086-99ff-249feb86c8c5",
   "metadata": {},
   "outputs": [
    {
     "data": {
      "text/plain": [
       "0.7706043956043956"
      ]
     },
     "execution_count": 37,
     "metadata": {},
     "output_type": "execute_result"
    }
   ],
   "source": [
    "#Theorem 1. Use Conjunction to compute a probability\n",
    "#What fraction of bankers are female?\n",
    "female[banker].mean()"
   ]
  },
  {
   "cell_type": "code",
   "execution_count": 38,
   "id": "45ccabbe-7540-4d95-8f4c-d87a5b6325bf",
   "metadata": {},
   "outputs": [
    {
     "data": {
      "text/plain": [
       "0.7706043956043956"
      ]
     },
     "execution_count": 38,
     "metadata": {},
     "output_type": "execute_result"
    }
   ],
   "source": [
    "conditional(female, given=banker)"
   ]
  },
  {
   "cell_type": "code",
   "execution_count": 39,
   "id": "e53d0ff9-69bb-4608-8d7a-25f018f64d52",
   "metadata": {},
   "outputs": [
    {
     "data": {
      "text/plain": [
       "0.7706043956043956"
      ]
     },
     "execution_count": 39,
     "metadata": {},
     "output_type": "execute_result"
    }
   ],
   "source": [
    "#Theorem 1 P(A|B) = P(A & B)/P(B)\n",
    "prob(female & banker) / prob(banker)"
   ]
  },
  {
   "cell_type": "code",
   "execution_count": 40,
   "id": "b4d6e0d7-2437-4123-bc05-3a5985c1e476",
   "metadata": {},
   "outputs": [
    {
     "data": {
      "text/plain": [
       "0.1425238385067965"
      ]
     },
     "execution_count": 40,
     "metadata": {},
     "output_type": "execute_result"
    }
   ],
   "source": [
    "#Theorem 2, Using a conditional probability to compute a conjunction. P(A & B) = P(B) * P(A|B)\n",
    "prob(liberal & democrat) # compute directly"
   ]
  },
  {
   "cell_type": "code",
   "execution_count": 41,
   "id": "8d0cc683-5add-4589-ae0a-f00005cff755",
   "metadata": {},
   "outputs": [
    {
     "data": {
      "text/plain": [
       "0.1425238385067965"
      ]
     },
     "execution_count": 41,
     "metadata": {},
     "output_type": "execute_result"
    }
   ],
   "source": [
    "#calc by Theorem 2\n",
    "prob(democrat) * conditional(liberal, democrat)"
   ]
  },
  {
   "cell_type": "code",
   "execution_count": 42,
   "id": "14446173-d223-447c-9ebf-d5b76199d70e",
   "metadata": {},
   "outputs": [
    {
     "data": {
      "text/plain": [
       "0.2239010989010989"
      ]
     },
     "execution_count": 42,
     "metadata": {},
     "output_type": "execute_result"
    }
   ],
   "source": [
    "#Theorem 3: Using conditional(A, B) to compute conditional(B, A). P(A|B) = (P(A) * P(B|A)) / P(B) , Bayes Theorem\n",
    "conditional(liberal, given=banker) #compute directly"
   ]
  },
  {
   "cell_type": "code",
   "execution_count": 44,
   "id": "2b808c6a-09a5-41a8-ba60-bb88e912faec",
   "metadata": {},
   "outputs": [
    {
     "data": {
      "text/plain": [
       "0.2239010989010989"
      ]
     },
     "execution_count": 44,
     "metadata": {},
     "output_type": "execute_result"
    }
   ],
   "source": [
    "prob(liberal) * conditional(banker, given=liberal) / prob(banker) #bayes theorem"
   ]
  },
  {
   "cell_type": "code",
   "execution_count": 45,
   "id": "19693c32-df67-40d2-8dc7-0826f93fa10e",
   "metadata": {},
   "outputs": [
    {
     "data": {
      "text/plain": [
       "0.014769730168391155"
      ]
     },
     "execution_count": 45,
     "metadata": {},
     "output_type": "execute_result"
    }
   ],
   "source": [
    "#law of total probability\n",
    "prob(banker)"
   ]
  },
  {
   "cell_type": "code",
   "execution_count": 46,
   "id": "b848af42-5a7e-45dc-9dd7-17f4a98260c4",
   "metadata": {},
   "outputs": [],
   "source": [
    "male = (gss['sex'] == 1)"
   ]
  },
  {
   "cell_type": "code",
   "execution_count": 47,
   "id": "46ec36c5-c0ed-4867-b6d2-2b4546c23872",
   "metadata": {},
   "outputs": [
    {
     "data": {
      "text/plain": [
       "0.014769730168391155"
      ]
     },
     "execution_count": 47,
     "metadata": {},
     "output_type": "execute_result"
    }
   ],
   "source": [
    "prob(male & banker) + prob(female & banker)"
   ]
  },
  {
   "cell_type": "code",
   "execution_count": 48,
   "id": "c31462ba-d28f-42f4-ae91-8a88caa15cc0",
   "metadata": {},
   "outputs": [
    {
     "data": {
      "text/plain": [
       "0.014769730168391153"
      ]
     },
     "execution_count": 48,
     "metadata": {},
     "output_type": "execute_result"
    }
   ],
   "source": [
    "prob(male)*conditional(banker, given=male) + prob(female)*conditional(banker, given=female)"
   ]
  },
  {
   "cell_type": "code",
   "execution_count": 50,
   "id": "a611cd4d-2369-4670-b28c-0ed1a1830e90",
   "metadata": {},
   "outputs": [
    {
     "data": {
      "text/plain": [
       "polviews\n",
       "1.0     1442\n",
       "2.0     5808\n",
       "3.0     6243\n",
       "4.0    18943\n",
       "5.0     7940\n",
       "6.0     7319\n",
       "7.0     1595\n",
       "Name: count, dtype: int64"
      ]
     },
     "execution_count": 50,
     "metadata": {},
     "output_type": "execute_result"
    }
   ],
   "source": [
    "B = gss['polviews']\n",
    "B.value_counts().sort_index()"
   ]
  },
  {
   "cell_type": "code",
   "execution_count": 51,
   "id": "46e6ce08-bd65-4440-9966-e7daed1df849",
   "metadata": {},
   "outputs": [
    {
     "data": {
      "text/plain": [
       "0.005822682085615744"
      ]
     },
     "execution_count": 51,
     "metadata": {},
     "output_type": "execute_result"
    }
   ],
   "source": [
    "# 4.0 considered moderate, prob of moderate banker\n",
    "i = 4\n",
    "prob(B==i) * conditional(banker, B==i)"
   ]
  },
  {
   "cell_type": "code",
   "execution_count": 52,
   "id": "306e1432-817f-4f81-b366-5fb2236c489c",
   "metadata": {},
   "outputs": [
    {
     "data": {
      "text/plain": [
       "0.014769730168391157"
      ]
     },
     "execution_count": 52,
     "metadata": {},
     "output_type": "execute_result"
    }
   ],
   "source": [
    "sum(prob(B==i) * conditional(banker, B==i) for i in range(1,8)) #generator expression"
   ]
  },
  {
   "cell_type": "code",
   "execution_count": 53,
   "id": "0a487298-b049-4d77-831e-3c92f197b696",
   "metadata": {},
   "outputs": [
    {
     "data": {
      "text/plain": [
       "0.011381618989653074"
      ]
     },
     "execution_count": 53,
     "metadata": {},
     "output_type": "execute_result"
    }
   ],
   "source": [
    "prob(female & banker)"
   ]
  },
  {
   "cell_type": "code",
   "execution_count": 55,
   "id": "ee518c45-423f-40eb-b077-8b1ebb65289e",
   "metadata": {},
   "outputs": [
    {
     "data": {
      "text/plain": [
       "0.002556299452221546"
      ]
     },
     "execution_count": 55,
     "metadata": {},
     "output_type": "execute_result"
    }
   ],
   "source": [
    "prob(liberal & female & banker)"
   ]
  },
  {
   "cell_type": "code",
   "execution_count": 56,
   "id": "c67bc6a5-06c5-4769-8bd4-79587db47619",
   "metadata": {},
   "outputs": [
    {
     "data": {
      "text/plain": [
       "0.0012375735443294787"
      ]
     },
     "execution_count": 56,
     "metadata": {},
     "output_type": "execute_result"
    }
   ],
   "source": [
    "prob(liberal & female & banker & democrat)"
   ]
  },
  {
   "cell_type": "code",
   "execution_count": 57,
   "id": "32fb8f7e-9581-49f8-a069-05b93e471a72",
   "metadata": {},
   "outputs": [
    {
     "data": {
      "text/plain": [
       "0.3891320002215698"
      ]
     },
     "execution_count": 57,
     "metadata": {},
     "output_type": "execute_result"
    }
   ],
   "source": [
    "conditional(liberal, given=democrat)"
   ]
  },
  {
   "cell_type": "code",
   "execution_count": 58,
   "id": "868fbc67-2996-47bb-848e-63faedbdf60d",
   "metadata": {},
   "outputs": [
    {
     "data": {
      "text/plain": [
       "0.5206403320240125"
      ]
     },
     "execution_count": 58,
     "metadata": {},
     "output_type": "execute_result"
    }
   ],
   "source": [
    "conditional(democrat, given=liberal)"
   ]
  },
  {
   "cell_type": "code",
   "execution_count": 61,
   "id": "31cdd188-5b39-4bca-97c1-054ff8d61aab",
   "metadata": {},
   "outputs": [
    {
     "data": {
      "text/plain": [
       "0.19435991073240008"
      ]
     },
     "execution_count": 61,
     "metadata": {},
     "output_type": "execute_result"
    }
   ],
   "source": [
    "young = gss['age'] < 30\n",
    "prob(young)"
   ]
  },
  {
   "cell_type": "code",
   "execution_count": 62,
   "id": "6b89262c-b2e1-4f0a-9d51-8816f09154a6",
   "metadata": {},
   "outputs": [
    {
     "data": {
      "text/plain": [
       "0.17328058429701765"
      ]
     },
     "execution_count": 62,
     "metadata": {},
     "output_type": "execute_result"
    }
   ],
   "source": [
    "old = gss['age'] >= 65\n",
    "prob(old)"
   ]
  },
  {
   "cell_type": "code",
   "execution_count": 64,
   "id": "f06d8a87-db2c-432c-8411-b81b5a339635",
   "metadata": {},
   "outputs": [
    {
     "data": {
      "text/plain": [
       "0.3419354838709677"
      ]
     },
     "execution_count": 64,
     "metadata": {},
     "output_type": "execute_result"
    }
   ],
   "source": [
    "conservative = gss['polviews'] >= 5\n",
    "prob(conservative)"
   ]
  },
  {
   "cell_type": "code",
   "execution_count": 65,
   "id": "8e055bc5-298f-41e5-8942-366d0c16c6aa",
   "metadata": {},
   "outputs": [
    {
     "data": {
      "text/plain": [
       "0.06579427875836884"
      ]
     },
     "execution_count": 65,
     "metadata": {},
     "output_type": "execute_result"
    }
   ],
   "source": [
    "#What is the probability that a randomly chosen respondent is a young liberal?\n",
    "prob(young & liberal)"
   ]
  },
  {
   "cell_type": "code",
   "execution_count": 66,
   "id": "dbe95f80-9980-4ca8-bd65-d8cdcf272a7b",
   "metadata": {},
   "outputs": [
    {
     "data": {
      "text/plain": [
       "0.338517745302714"
      ]
     },
     "execution_count": 66,
     "metadata": {},
     "output_type": "execute_result"
    }
   ],
   "source": [
    "#What is the probability that a young person is liberal?\n",
    "conditional(liberal, given=young)"
   ]
  },
  {
   "cell_type": "code",
   "execution_count": 67,
   "id": "3d31f87a-2d5a-47b1-9087-940ba845bd19",
   "metadata": {},
   "outputs": [
    {
     "data": {
      "text/plain": [
       "0.06701156421180766"
      ]
     },
     "execution_count": 67,
     "metadata": {},
     "output_type": "execute_result"
    }
   ],
   "source": [
    "#What fraction of respondents are old conservatives?\n",
    "prob(old & conservative)"
   ]
  },
  {
   "cell_type": "code",
   "execution_count": 68,
   "id": "aa288f46-1f55-4556-802c-d15eafb2fdcc",
   "metadata": {},
   "outputs": [
    {
     "data": {
      "text/plain": [
       "0.19597721609113564"
      ]
     },
     "execution_count": 68,
     "metadata": {},
     "output_type": "execute_result"
    }
   ],
   "source": [
    "#What fraction of conservatives are old?\n",
    "conditional(old, given=conservative)"
   ]
  },
  {
   "cell_type": "code",
   "execution_count": null,
   "id": "c17b5996-e6ff-4221-9fcf-eff000c86879",
   "metadata": {},
   "outputs": [],
   "source": []
  }
 ],
 "metadata": {
  "kernelspec": {
   "display_name": "Python 3 (ipykernel)",
   "language": "python",
   "name": "python3"
  },
  "language_info": {
   "codemirror_mode": {
    "name": "ipython",
    "version": 3
   },
   "file_extension": ".py",
   "mimetype": "text/x-python",
   "name": "python",
   "nbconvert_exporter": "python",
   "pygments_lexer": "ipython3",
   "version": "3.11.4"
  }
 },
 "nbformat": 4,
 "nbformat_minor": 5
}
