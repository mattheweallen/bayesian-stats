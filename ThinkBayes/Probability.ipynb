{
 "cells": [
  {
   "cell_type": "markdown",
   "id": "94cf6bca-8dc6-41c3-b239-dde85687f70c",
   "metadata": {},
   "source": [
    "A Simple definition of Probability is probability is a fraction of a finite set. This will be refined later."
   ]
  },
  {
   "cell_type": "code",
   "execution_count": 2,
   "id": "eacf48be-33c5-4ef0-b2ec-1f6510082308",
   "metadata": {},
   "outputs": [
    {
     "name": "stdout",
     "output_type": "stream",
     "text": [
      "Download gss_bayes.csv\n"
     ]
    }
   ],
   "source": [
    "# Load the General Social Survey data\n",
    "from os.path import basename, exists\n",
    "\n",
    "def download(url):\n",
    "    filename = basename(url)\n",
    "    if not exists(filename):\n",
    "        from urllib.request import urlretrieve\n",
    "        local, _ = urlretrieve(url, filename)\n",
    "        print('Download ' + local)\n",
    "\n",
    "download('https://github.com/AllenDowney/ThinkBayes2/raw/master/data/gss_bayes.csv')"
   ]
  },
  {
   "cell_type": "code",
   "execution_count": null,
   "id": "eb9e70f5-f354-4baf-b9b9-3f3a00e00739",
   "metadata": {},
   "outputs": [],
   "source": []
  }
 ],
 "metadata": {
  "kernelspec": {
   "display_name": "Python 3 (ipykernel)",
   "language": "python",
   "name": "python3"
  },
  "language_info": {
   "codemirror_mode": {
    "name": "ipython",
    "version": 3
   },
   "file_extension": ".py",
   "mimetype": "text/x-python",
   "name": "python",
   "nbconvert_exporter": "python",
   "pygments_lexer": "ipython3",
   "version": "3.11.4"
  }
 },
 "nbformat": 4,
 "nbformat_minor": 5
}
